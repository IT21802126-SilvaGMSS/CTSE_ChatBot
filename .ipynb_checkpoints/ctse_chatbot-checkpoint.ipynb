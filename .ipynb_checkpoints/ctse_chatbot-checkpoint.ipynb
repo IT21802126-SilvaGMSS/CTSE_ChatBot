{
 "cells": [
  {
   "cell_type": "code",
   "execution_count": 10,
   "id": "ada65d50-9b44-4653-b5b5-e994bf7d410d",
   "metadata": {
    "scrolled": true
   },
   "outputs": [
    {
     "name": "stdout",
     "output_type": "stream",
     "text": [
      "Defaulting to user installation because normal site-packages is not writeable\n",
      "Requirement already satisfied: langchain in c:\\users\\sandi\\appdata\\roaming\\python\\python311\\site-packages (0.3.24)\n",
      "Requirement already satisfied: langchain-community in c:\\users\\sandi\\appdata\\roaming\\python\\python311\\site-packages (0.3.23)\n",
      "Requirement already satisfied: langchain-huggingface in c:\\users\\sandi\\appdata\\roaming\\python\\python311\\site-packages (0.1.2)\n",
      "Requirement already satisfied: langchain-core<1.0.0,>=0.3.55 in c:\\users\\sandi\\appdata\\roaming\\python\\python311\\site-packages (from langchain) (0.3.56)\n",
      "Requirement already satisfied: langchain-text-splitters<1.0.0,>=0.3.8 in c:\\users\\sandi\\appdata\\roaming\\python\\python311\\site-packages (from langchain) (0.3.8)\n",
      "Requirement already satisfied: langsmith<0.4,>=0.1.17 in c:\\users\\sandi\\appdata\\roaming\\python\\python311\\site-packages (from langchain) (0.3.37)\n",
      "Requirement already satisfied: pydantic<3.0.0,>=2.7.4 in c:\\users\\sandi\\appdata\\roaming\\python\\python311\\site-packages (from langchain) (2.11.2)\n",
      "Requirement already satisfied: SQLAlchemy<3,>=1.4 in c:\\users\\sandi\\appdata\\roaming\\python\\python311\\site-packages (from langchain) (2.0.40)\n",
      "Requirement already satisfied: requests<3,>=2 in c:\\users\\sandi\\appdata\\roaming\\python\\python311\\site-packages (from langchain) (2.32.3)\n",
      "Requirement already satisfied: PyYAML>=5.3 in c:\\users\\sandi\\appdata\\roaming\\python\\python311\\site-packages (from langchain) (6.0.2)\n",
      "Requirement already satisfied: aiohttp<4.0.0,>=3.8.3 in c:\\users\\sandi\\appdata\\roaming\\python\\python311\\site-packages (from langchain-community) (3.11.18)\n",
      "Requirement already satisfied: tenacity!=8.4.0,<10,>=8.1.0 in c:\\users\\sandi\\appdata\\roaming\\python\\python311\\site-packages (from langchain-community) (8.5.0)\n",
      "Requirement already satisfied: dataclasses-json<0.7,>=0.5.7 in c:\\users\\sandi\\appdata\\roaming\\python\\python311\\site-packages (from langchain-community) (0.5.14)\n",
      "Requirement already satisfied: pydantic-settings<3.0.0,>=2.4.0 in c:\\users\\sandi\\appdata\\roaming\\python\\python311\\site-packages (from langchain-community) (2.9.1)\n",
      "Requirement already satisfied: httpx-sse<1.0.0,>=0.4.0 in c:\\users\\sandi\\appdata\\roaming\\python\\python311\\site-packages (from langchain-community) (0.4.0)\n",
      "Requirement already satisfied: numpy>=1.26.2 in c:\\users\\sandi\\appdata\\roaming\\python\\python311\\site-packages (from langchain-community) (2.1.3)\n",
      "Requirement already satisfied: huggingface-hub>=0.23.0 in c:\\users\\sandi\\appdata\\roaming\\python\\python311\\site-packages (from langchain-huggingface) (0.30.2)\n",
      "Requirement already satisfied: sentence-transformers>=2.6.0 in c:\\users\\sandi\\appdata\\roaming\\python\\python311\\site-packages (from langchain-huggingface) (4.1.0)\n",
      "Requirement already satisfied: tokenizers>=0.19.1 in c:\\users\\sandi\\appdata\\roaming\\python\\python311\\site-packages (from langchain-huggingface) (0.21.1)\n",
      "Requirement already satisfied: transformers>=4.39.0 in c:\\users\\sandi\\appdata\\roaming\\python\\python311\\site-packages (from langchain-huggingface) (4.51.3)\n",
      "Requirement already satisfied: aiohappyeyeballs>=2.3.0 in c:\\users\\sandi\\appdata\\roaming\\python\\python311\\site-packages (from aiohttp<4.0.0,>=3.8.3->langchain-community) (2.6.1)\n",
      "Requirement already satisfied: aiosignal>=1.1.2 in c:\\users\\sandi\\appdata\\roaming\\python\\python311\\site-packages (from aiohttp<4.0.0,>=3.8.3->langchain-community) (1.3.2)\n",
      "Requirement already satisfied: attrs>=17.3.0 in c:\\users\\sandi\\appdata\\roaming\\python\\python311\\site-packages (from aiohttp<4.0.0,>=3.8.3->langchain-community) (25.1.0)\n",
      "Requirement already satisfied: frozenlist>=1.1.1 in c:\\users\\sandi\\appdata\\roaming\\python\\python311\\site-packages (from aiohttp<4.0.0,>=3.8.3->langchain-community) (1.6.0)\n",
      "Requirement already satisfied: multidict<7.0,>=4.5 in c:\\users\\sandi\\appdata\\roaming\\python\\python311\\site-packages (from aiohttp<4.0.0,>=3.8.3->langchain-community) (6.4.3)\n",
      "Requirement already satisfied: propcache>=0.2.0 in c:\\users\\sandi\\appdata\\roaming\\python\\python311\\site-packages (from aiohttp<4.0.0,>=3.8.3->langchain-community) (0.3.1)\n",
      "Requirement already satisfied: yarl<2.0,>=1.17.0 in c:\\users\\sandi\\appdata\\roaming\\python\\python311\\site-packages (from aiohttp<4.0.0,>=3.8.3->langchain-community) (1.20.0)\n",
      "Requirement already satisfied: marshmallow<4.0.0,>=3.18.0 in c:\\users\\sandi\\appdata\\roaming\\python\\python311\\site-packages (from dataclasses-json<0.7,>=0.5.7->langchain-community) (3.26.1)\n",
      "Requirement already satisfied: typing-inspect<1,>=0.4.0 in c:\\users\\sandi\\appdata\\roaming\\python\\python311\\site-packages (from dataclasses-json<0.7,>=0.5.7->langchain-community) (0.9.0)\n",
      "Requirement already satisfied: filelock in c:\\users\\sandi\\appdata\\roaming\\python\\python311\\site-packages (from huggingface-hub>=0.23.0->langchain-huggingface) (3.18.0)\n",
      "Requirement already satisfied: fsspec>=2023.5.0 in c:\\users\\sandi\\appdata\\roaming\\python\\python311\\site-packages (from huggingface-hub>=0.23.0->langchain-huggingface) (2025.3.2)\n",
      "Requirement already satisfied: packaging>=20.9 in c:\\users\\sandi\\appdata\\roaming\\python\\python311\\site-packages (from huggingface-hub>=0.23.0->langchain-huggingface) (24.2)\n",
      "Requirement already satisfied: tqdm>=4.42.1 in c:\\users\\sandi\\appdata\\roaming\\python\\python311\\site-packages (from huggingface-hub>=0.23.0->langchain-huggingface) (4.67.1)\n",
      "Requirement already satisfied: typing-extensions>=3.7.4.3 in c:\\users\\sandi\\appdata\\roaming\\python\\python311\\site-packages (from huggingface-hub>=0.23.0->langchain-huggingface) (4.12.2)\n",
      "Requirement already satisfied: jsonpatch<2.0,>=1.33 in c:\\users\\sandi\\appdata\\roaming\\python\\python311\\site-packages (from langchain-core<1.0.0,>=0.3.55->langchain) (1.33)\n",
      "Requirement already satisfied: httpx<1,>=0.23.0 in c:\\users\\sandi\\appdata\\roaming\\python\\python311\\site-packages (from langsmith<0.4,>=0.1.17->langchain) (0.28.1)\n",
      "Requirement already satisfied: orjson<4.0.0,>=3.9.14 in c:\\users\\sandi\\appdata\\roaming\\python\\python311\\site-packages (from langsmith<0.4,>=0.1.17->langchain) (3.10.16)\n",
      "Requirement already satisfied: requests-toolbelt<2.0.0,>=1.0.0 in c:\\users\\sandi\\appdata\\roaming\\python\\python311\\site-packages (from langsmith<0.4,>=0.1.17->langchain) (1.0.0)\n",
      "Requirement already satisfied: zstandard<0.24.0,>=0.23.0 in c:\\users\\sandi\\appdata\\roaming\\python\\python311\\site-packages (from langsmith<0.4,>=0.1.17->langchain) (0.23.0)\n",
      "Requirement already satisfied: annotated-types>=0.6.0 in c:\\users\\sandi\\appdata\\roaming\\python\\python311\\site-packages (from pydantic<3.0.0,>=2.7.4->langchain) (0.7.0)\n",
      "Requirement already satisfied: pydantic-core==2.33.1 in c:\\users\\sandi\\appdata\\roaming\\python\\python311\\site-packages (from pydantic<3.0.0,>=2.7.4->langchain) (2.33.1)\n",
      "Requirement already satisfied: typing-inspection>=0.4.0 in c:\\users\\sandi\\appdata\\roaming\\python\\python311\\site-packages (from pydantic<3.0.0,>=2.7.4->langchain) (0.4.0)\n",
      "Requirement already satisfied: python-dotenv>=0.21.0 in c:\\users\\sandi\\appdata\\roaming\\python\\python311\\site-packages (from pydantic-settings<3.0.0,>=2.4.0->langchain-community) (1.1.0)\n",
      "Requirement already satisfied: charset-normalizer<4,>=2 in c:\\users\\sandi\\appdata\\roaming\\python\\python311\\site-packages (from requests<3,>=2->langchain) (3.4.1)\n",
      "Requirement already satisfied: idna<4,>=2.5 in c:\\users\\sandi\\appdata\\roaming\\python\\python311\\site-packages (from requests<3,>=2->langchain) (3.10)\n",
      "Requirement already satisfied: urllib3<3,>=1.21.1 in c:\\users\\sandi\\appdata\\roaming\\python\\python311\\site-packages (from requests<3,>=2->langchain) (1.26.20)\n",
      "Requirement already satisfied: certifi>=2017.4.17 in c:\\users\\sandi\\appdata\\roaming\\python\\python311\\site-packages (from requests<3,>=2->langchain) (2025.1.31)\n",
      "Requirement already satisfied: torch>=1.11.0 in c:\\users\\sandi\\appdata\\roaming\\python\\python311\\site-packages (from sentence-transformers>=2.6.0->langchain-huggingface) (2.7.0)\n",
      "Requirement already satisfied: scikit-learn in c:\\users\\sandi\\appdata\\roaming\\python\\python311\\site-packages (from sentence-transformers>=2.6.0->langchain-huggingface) (1.6.1)\n",
      "Requirement already satisfied: scipy in c:\\users\\sandi\\appdata\\roaming\\python\\python311\\site-packages (from sentence-transformers>=2.6.0->langchain-huggingface) (1.15.2)\n",
      "Requirement already satisfied: Pillow in c:\\users\\sandi\\appdata\\roaming\\python\\python311\\site-packages (from sentence-transformers>=2.6.0->langchain-huggingface) (11.1.0)\n",
      "Requirement already satisfied: greenlet>=1 in c:\\users\\sandi\\appdata\\roaming\\python\\python311\\site-packages (from SQLAlchemy<3,>=1.4->langchain) (3.2.1)\n",
      "Requirement already satisfied: regex!=2019.12.17 in c:\\users\\sandi\\appdata\\roaming\\python\\python311\\site-packages (from transformers>=4.39.0->langchain-huggingface) (2024.11.6)\n",
      "Requirement already satisfied: safetensors>=0.4.3 in c:\\users\\sandi\\appdata\\roaming\\python\\python311\\site-packages (from transformers>=4.39.0->langchain-huggingface) (0.5.3)\n",
      "Requirement already satisfied: anyio in c:\\users\\sandi\\appdata\\roaming\\python\\python311\\site-packages (from httpx<1,>=0.23.0->langsmith<0.4,>=0.1.17->langchain) (4.8.0)\n",
      "Requirement already satisfied: httpcore==1.* in c:\\users\\sandi\\appdata\\roaming\\python\\python311\\site-packages (from httpx<1,>=0.23.0->langsmith<0.4,>=0.1.17->langchain) (1.0.7)\n",
      "Requirement already satisfied: h11<0.15,>=0.13 in c:\\users\\sandi\\appdata\\roaming\\python\\python311\\site-packages (from httpcore==1.*->httpx<1,>=0.23.0->langsmith<0.4,>=0.1.17->langchain) (0.14.0)\n",
      "Requirement already satisfied: jsonpointer>=1.9 in c:\\users\\sandi\\appdata\\roaming\\python\\python311\\site-packages (from jsonpatch<2.0,>=1.33->langchain-core<1.0.0,>=0.3.55->langchain) (3.0.0)\n",
      "Requirement already satisfied: sympy>=1.13.3 in c:\\users\\sandi\\appdata\\roaming\\python\\python311\\site-packages (from torch>=1.11.0->sentence-transformers>=2.6.0->langchain-huggingface) (1.14.0)\n",
      "Requirement already satisfied: networkx in c:\\users\\sandi\\appdata\\roaming\\python\\python311\\site-packages (from torch>=1.11.0->sentence-transformers>=2.6.0->langchain-huggingface) (3.4.2)\n",
      "Requirement already satisfied: jinja2 in c:\\users\\sandi\\appdata\\roaming\\python\\python311\\site-packages (from torch>=1.11.0->sentence-transformers>=2.6.0->langchain-huggingface) (3.1.5)\n",
      "Requirement already satisfied: colorama in c:\\users\\sandi\\appdata\\roaming\\python\\python311\\site-packages (from tqdm>=4.42.1->huggingface-hub>=0.23.0->langchain-huggingface) (0.4.6)\n",
      "Requirement already satisfied: mypy-extensions>=0.3.0 in c:\\users\\sandi\\appdata\\roaming\\python\\python311\\site-packages (from typing-inspect<1,>=0.4.0->dataclasses-json<0.7,>=0.5.7->langchain-community) (1.1.0)\n",
      "Requirement already satisfied: joblib>=1.2.0 in c:\\users\\sandi\\appdata\\roaming\\python\\python311\\site-packages (from scikit-learn->sentence-transformers>=2.6.0->langchain-huggingface) (1.4.2)\n",
      "Requirement already satisfied: threadpoolctl>=3.1.0 in c:\\users\\sandi\\appdata\\roaming\\python\\python311\\site-packages (from scikit-learn->sentence-transformers>=2.6.0->langchain-huggingface) (3.6.0)\n",
      "Requirement already satisfied: mpmath<1.4,>=1.1.0 in c:\\users\\sandi\\appdata\\roaming\\python\\python311\\site-packages (from sympy>=1.13.3->torch>=1.11.0->sentence-transformers>=2.6.0->langchain-huggingface) (1.3.0)\n",
      "Requirement already satisfied: sniffio>=1.1 in c:\\users\\sandi\\appdata\\roaming\\python\\python311\\site-packages (from anyio->httpx<1,>=0.23.0->langsmith<0.4,>=0.1.17->langchain) (1.3.1)\n",
      "Requirement already satisfied: MarkupSafe>=2.0 in c:\\users\\sandi\\appdata\\roaming\\python\\python311\\site-packages (from jinja2->torch>=1.11.0->sentence-transformers>=2.6.0->langchain-huggingface) (3.0.2)\n"
     ]
    },
    {
     "name": "stderr",
     "output_type": "stream",
     "text": [
      "\n",
      "[notice] A new release of pip is available: 25.0.1 -> 25.1\n",
      "[notice] To update, run: python.exe -m pip install --upgrade pip\n"
     ]
    },
    {
     "name": "stdout",
     "output_type": "stream",
     "text": [
      "Defaulting to user installation because normal site-packages is not writeable\n",
      "Requirement already satisfied: chromadb in c:\\users\\sandi\\appdata\\roaming\\python\\python311\\site-packages (1.0.7)\n",
      "Requirement already satisfied: sentence-transformers in c:\\users\\sandi\\appdata\\roaming\\python\\python311\\site-packages (4.1.0)\n",
      "Requirement already satisfied: transformers in c:\\users\\sandi\\appdata\\roaming\\python\\python311\\site-packages (4.51.3)\n",
      "Requirement already satisfied: accelerate in c:\\users\\sandi\\appdata\\roaming\\python\\python311\\site-packages (1.6.0)\n",
      "Requirement already satisfied: build>=1.0.3 in c:\\users\\sandi\\appdata\\roaming\\python\\python311\\site-packages (from chromadb) (1.2.2.post1)\n",
      "Requirement already satisfied: pydantic>=1.9 in c:\\users\\sandi\\appdata\\roaming\\python\\python311\\site-packages (from chromadb) (2.11.2)\n",
      "Requirement already satisfied: chroma-hnswlib==0.7.6 in c:\\users\\sandi\\appdata\\roaming\\python\\python311\\site-packages (from chromadb) (0.7.6)\n",
      "Requirement already satisfied: fastapi==0.115.9 in c:\\users\\sandi\\appdata\\roaming\\python\\python311\\site-packages (from chromadb) (0.115.9)\n",
      "Requirement already satisfied: uvicorn>=0.18.3 in c:\\users\\sandi\\appdata\\roaming\\python\\python311\\site-packages (from uvicorn[standard]>=0.18.3->chromadb) (0.34.0)\n",
      "Requirement already satisfied: numpy>=1.22.5 in c:\\users\\sandi\\appdata\\roaming\\python\\python311\\site-packages (from chromadb) (2.1.3)\n",
      "Requirement already satisfied: posthog>=2.4.0 in c:\\users\\sandi\\appdata\\roaming\\python\\python311\\site-packages (from chromadb) (4.0.1)\n",
      "Requirement already satisfied: typing-extensions>=4.5.0 in c:\\users\\sandi\\appdata\\roaming\\python\\python311\\site-packages (from chromadb) (4.12.2)\n",
      "Requirement already satisfied: onnxruntime>=1.14.1 in c:\\users\\sandi\\appdata\\roaming\\python\\python311\\site-packages (from chromadb) (1.21.1)\n",
      "Requirement already satisfied: opentelemetry-api>=1.2.0 in c:\\users\\sandi\\appdata\\roaming\\python\\python311\\site-packages (from chromadb) (1.32.1)\n",
      "Requirement already satisfied: opentelemetry-exporter-otlp-proto-grpc>=1.2.0 in c:\\users\\sandi\\appdata\\roaming\\python\\python311\\site-packages (from chromadb) (1.32.1)\n",
      "Requirement already satisfied: opentelemetry-instrumentation-fastapi>=0.41b0 in c:\\users\\sandi\\appdata\\roaming\\python\\python311\\site-packages (from chromadb) (0.53b1)\n",
      "Requirement already satisfied: opentelemetry-sdk>=1.2.0 in c:\\users\\sandi\\appdata\\roaming\\python\\python311\\site-packages (from chromadb) (1.32.1)\n",
      "Requirement already satisfied: tokenizers>=0.13.2 in c:\\users\\sandi\\appdata\\roaming\\python\\python311\\site-packages (from chromadb) (0.21.1)\n",
      "Requirement already satisfied: pypika>=0.48.9 in c:\\users\\sandi\\appdata\\roaming\\python\\python311\\site-packages (from chromadb) (0.48.9)\n",
      "Requirement already satisfied: tqdm>=4.65.0 in c:\\users\\sandi\\appdata\\roaming\\python\\python311\\site-packages (from chromadb) (4.67.1)\n",
      "Requirement already satisfied: overrides>=7.3.1 in c:\\users\\sandi\\appdata\\roaming\\python\\python311\\site-packages (from chromadb) (7.7.0)\n",
      "Requirement already satisfied: importlib-resources in c:\\users\\sandi\\appdata\\roaming\\python\\python311\\site-packages (from chromadb) (6.5.2)\n",
      "Requirement already satisfied: grpcio>=1.58.0 in c:\\users\\sandi\\appdata\\roaming\\python\\python311\\site-packages (from chromadb) (1.72.0rc1)\n",
      "Requirement already satisfied: bcrypt>=4.0.1 in c:\\users\\sandi\\appdata\\roaming\\python\\python311\\site-packages (from chromadb) (4.3.0)\n",
      "Requirement already satisfied: typer>=0.9.0 in c:\\users\\sandi\\appdata\\roaming\\python\\python311\\site-packages (from chromadb) (0.15.3)\n",
      "Requirement already satisfied: kubernetes>=28.1.0 in c:\\users\\sandi\\appdata\\roaming\\python\\python311\\site-packages (from chromadb) (32.0.1)\n",
      "Requirement already satisfied: tenacity>=8.2.3 in c:\\users\\sandi\\appdata\\roaming\\python\\python311\\site-packages (from chromadb) (8.5.0)\n",
      "Requirement already satisfied: pyyaml>=6.0.0 in c:\\users\\sandi\\appdata\\roaming\\python\\python311\\site-packages (from chromadb) (6.0.2)\n",
      "Requirement already satisfied: mmh3>=4.0.1 in c:\\users\\sandi\\appdata\\roaming\\python\\python311\\site-packages (from chromadb) (5.1.0)\n",
      "Requirement already satisfied: orjson>=3.9.12 in c:\\users\\sandi\\appdata\\roaming\\python\\python311\\site-packages (from chromadb) (3.10.16)\n",
      "Requirement already satisfied: httpx>=0.27.0 in c:\\users\\sandi\\appdata\\roaming\\python\\python311\\site-packages (from chromadb) (0.28.1)\n",
      "Requirement already satisfied: rich>=10.11.0 in c:\\users\\sandi\\appdata\\roaming\\python\\python311\\site-packages (from chromadb) (14.0.0)\n",
      "Requirement already satisfied: jsonschema>=4.19.0 in c:\\users\\sandi\\appdata\\roaming\\python\\python311\\site-packages (from chromadb) (4.23.0)\n",
      "Requirement already satisfied: starlette<0.46.0,>=0.40.0 in c:\\users\\sandi\\appdata\\roaming\\python\\python311\\site-packages (from fastapi==0.115.9->chromadb) (0.45.3)\n",
      "Requirement already satisfied: torch>=1.11.0 in c:\\users\\sandi\\appdata\\roaming\\python\\python311\\site-packages (from sentence-transformers) (2.7.0)\n",
      "Requirement already satisfied: scikit-learn in c:\\users\\sandi\\appdata\\roaming\\python\\python311\\site-packages (from sentence-transformers) (1.6.1)\n",
      "Requirement already satisfied: scipy in c:\\users\\sandi\\appdata\\roaming\\python\\python311\\site-packages (from sentence-transformers) (1.15.2)\n",
      "Requirement already satisfied: huggingface-hub>=0.20.0 in c:\\users\\sandi\\appdata\\roaming\\python\\python311\\site-packages (from sentence-transformers) (0.30.2)\n",
      "Requirement already satisfied: Pillow in c:\\users\\sandi\\appdata\\roaming\\python\\python311\\site-packages (from sentence-transformers) (11.1.0)\n",
      "Requirement already satisfied: filelock in c:\\users\\sandi\\appdata\\roaming\\python\\python311\\site-packages (from transformers) (3.18.0)\n",
      "Requirement already satisfied: packaging>=20.0 in c:\\users\\sandi\\appdata\\roaming\\python\\python311\\site-packages (from transformers) (24.2)\n",
      "Requirement already satisfied: regex!=2019.12.17 in c:\\users\\sandi\\appdata\\roaming\\python\\python311\\site-packages (from transformers) (2024.11.6)\n",
      "Requirement already satisfied: requests in c:\\users\\sandi\\appdata\\roaming\\python\\python311\\site-packages (from transformers) (2.32.3)\n",
      "Requirement already satisfied: safetensors>=0.4.3 in c:\\users\\sandi\\appdata\\roaming\\python\\python311\\site-packages (from transformers) (0.5.3)\n",
      "Requirement already satisfied: psutil in c:\\users\\sandi\\appdata\\roaming\\python\\python311\\site-packages (from accelerate) (7.0.0)\n",
      "Requirement already satisfied: pyproject_hooks in c:\\users\\sandi\\appdata\\roaming\\python\\python311\\site-packages (from build>=1.0.3->chromadb) (1.2.0)\n",
      "Requirement already satisfied: colorama in c:\\users\\sandi\\appdata\\roaming\\python\\python311\\site-packages (from build>=1.0.3->chromadb) (0.4.6)\n",
      "Requirement already satisfied: anyio in c:\\users\\sandi\\appdata\\roaming\\python\\python311\\site-packages (from httpx>=0.27.0->chromadb) (4.8.0)\n",
      "Requirement already satisfied: certifi in c:\\users\\sandi\\appdata\\roaming\\python\\python311\\site-packages (from httpx>=0.27.0->chromadb) (2025.1.31)\n",
      "Requirement already satisfied: httpcore==1.* in c:\\users\\sandi\\appdata\\roaming\\python\\python311\\site-packages (from httpx>=0.27.0->chromadb) (1.0.7)\n",
      "Requirement already satisfied: idna in c:\\users\\sandi\\appdata\\roaming\\python\\python311\\site-packages (from httpx>=0.27.0->chromadb) (3.10)\n",
      "Requirement already satisfied: h11<0.15,>=0.13 in c:\\users\\sandi\\appdata\\roaming\\python\\python311\\site-packages (from httpcore==1.*->httpx>=0.27.0->chromadb) (0.14.0)\n",
      "Requirement already satisfied: fsspec>=2023.5.0 in c:\\users\\sandi\\appdata\\roaming\\python\\python311\\site-packages (from huggingface-hub>=0.20.0->sentence-transformers) (2025.3.2)\n",
      "Requirement already satisfied: attrs>=22.2.0 in c:\\users\\sandi\\appdata\\roaming\\python\\python311\\site-packages (from jsonschema>=4.19.0->chromadb) (25.1.0)\n",
      "Requirement already satisfied: jsonschema-specifications>=2023.03.6 in c:\\users\\sandi\\appdata\\roaming\\python\\python311\\site-packages (from jsonschema>=4.19.0->chromadb) (2024.10.1)\n",
      "Requirement already satisfied: referencing>=0.28.4 in c:\\users\\sandi\\appdata\\roaming\\python\\python311\\site-packages (from jsonschema>=4.19.0->chromadb) (0.36.2)\n",
      "Requirement already satisfied: rpds-py>=0.7.1 in c:\\users\\sandi\\appdata\\roaming\\python\\python311\\site-packages (from jsonschema>=4.19.0->chromadb) (0.22.3)\n",
      "Requirement already satisfied: six>=1.9.0 in c:\\users\\sandi\\appdata\\roaming\\python\\python311\\site-packages (from kubernetes>=28.1.0->chromadb) (1.17.0)\n",
      "Requirement already satisfied: python-dateutil>=2.5.3 in c:\\users\\sandi\\appdata\\roaming\\python\\python311\\site-packages (from kubernetes>=28.1.0->chromadb) (2.9.0.post0)\n",
      "Requirement already satisfied: google-auth>=1.0.1 in c:\\users\\sandi\\appdata\\roaming\\python\\python311\\site-packages (from kubernetes>=28.1.0->chromadb) (2.39.0)\n",
      "Requirement already satisfied: websocket-client!=0.40.0,!=0.41.*,!=0.42.*,>=0.32.0 in c:\\users\\sandi\\appdata\\roaming\\python\\python311\\site-packages (from kubernetes>=28.1.0->chromadb) (1.8.0)\n",
      "Requirement already satisfied: requests-oauthlib in c:\\users\\sandi\\appdata\\roaming\\python\\python311\\site-packages (from kubernetes>=28.1.0->chromadb) (2.0.0)\n",
      "Requirement already satisfied: oauthlib>=3.2.2 in c:\\users\\sandi\\appdata\\roaming\\python\\python311\\site-packages (from kubernetes>=28.1.0->chromadb) (3.2.2)\n",
      "Requirement already satisfied: urllib3>=1.24.2 in c:\\users\\sandi\\appdata\\roaming\\python\\python311\\site-packages (from kubernetes>=28.1.0->chromadb) (1.26.20)\n",
      "Requirement already satisfied: durationpy>=0.7 in c:\\users\\sandi\\appdata\\roaming\\python\\python311\\site-packages (from kubernetes>=28.1.0->chromadb) (0.9)\n",
      "Requirement already satisfied: coloredlogs in c:\\users\\sandi\\appdata\\roaming\\python\\python311\\site-packages (from onnxruntime>=1.14.1->chromadb) (15.0.1)\n",
      "Requirement already satisfied: flatbuffers in c:\\users\\sandi\\appdata\\roaming\\python\\python311\\site-packages (from onnxruntime>=1.14.1->chromadb) (25.2.10)\n",
      "Requirement already satisfied: protobuf in c:\\users\\sandi\\appdata\\roaming\\python\\python311\\site-packages (from onnxruntime>=1.14.1->chromadb) (5.29.4)\n",
      "Requirement already satisfied: sympy in c:\\users\\sandi\\appdata\\roaming\\python\\python311\\site-packages (from onnxruntime>=1.14.1->chromadb) (1.14.0)\n",
      "Requirement already satisfied: deprecated>=1.2.6 in c:\\users\\sandi\\appdata\\roaming\\python\\python311\\site-packages (from opentelemetry-api>=1.2.0->chromadb) (1.2.18)\n",
      "Requirement already satisfied: importlib-metadata<8.7.0,>=6.0 in c:\\users\\sandi\\appdata\\roaming\\python\\python311\\site-packages (from opentelemetry-api>=1.2.0->chromadb) (8.6.1)\n",
      "Requirement already satisfied: googleapis-common-protos~=1.52 in c:\\users\\sandi\\appdata\\roaming\\python\\python311\\site-packages (from opentelemetry-exporter-otlp-proto-grpc>=1.2.0->chromadb) (1.70.0)\n",
      "Requirement already satisfied: opentelemetry-exporter-otlp-proto-common==1.32.1 in c:\\users\\sandi\\appdata\\roaming\\python\\python311\\site-packages (from opentelemetry-exporter-otlp-proto-grpc>=1.2.0->chromadb) (1.32.1)\n",
      "Requirement already satisfied: opentelemetry-proto==1.32.1 in c:\\users\\sandi\\appdata\\roaming\\python\\python311\\site-packages (from opentelemetry-exporter-otlp-proto-grpc>=1.2.0->chromadb) (1.32.1)\n",
      "Requirement already satisfied: opentelemetry-instrumentation-asgi==0.53b1 in c:\\users\\sandi\\appdata\\roaming\\python\\python311\\site-packages (from opentelemetry-instrumentation-fastapi>=0.41b0->chromadb) (0.53b1)\n",
      "Requirement already satisfied: opentelemetry-instrumentation==0.53b1 in c:\\users\\sandi\\appdata\\roaming\\python\\python311\\site-packages (from opentelemetry-instrumentation-fastapi>=0.41b0->chromadb) (0.53b1)\n",
      "Requirement already satisfied: opentelemetry-semantic-conventions==0.53b1 in c:\\users\\sandi\\appdata\\roaming\\python\\python311\\site-packages (from opentelemetry-instrumentation-fastapi>=0.41b0->chromadb) (0.53b1)\n",
      "Requirement already satisfied: opentelemetry-util-http==0.53b1 in c:\\users\\sandi\\appdata\\roaming\\python\\python311\\site-packages (from opentelemetry-instrumentation-fastapi>=0.41b0->chromadb) (0.53b1)\n",
      "Requirement already satisfied: wrapt<2.0.0,>=1.0.0 in c:\\users\\sandi\\appdata\\roaming\\python\\python311\\site-packages (from opentelemetry-instrumentation==0.53b1->opentelemetry-instrumentation-fastapi>=0.41b0->chromadb) (1.17.2)\n",
      "Requirement already satisfied: asgiref~=3.0 in c:\\users\\sandi\\appdata\\roaming\\python\\python311\\site-packages (from opentelemetry-instrumentation-asgi==0.53b1->opentelemetry-instrumentation-fastapi>=0.41b0->chromadb) (3.8.1)\n",
      "Requirement already satisfied: backoff>=1.10.0 in c:\\users\\sandi\\appdata\\roaming\\python\\python311\\site-packages (from posthog>=2.4.0->chromadb) (2.2.1)\n",
      "Requirement already satisfied: distro>=1.5.0 in c:\\users\\sandi\\appdata\\roaming\\python\\python311\\site-packages (from posthog>=2.4.0->chromadb) (1.9.0)\n",
      "Requirement already satisfied: annotated-types>=0.6.0 in c:\\users\\sandi\\appdata\\roaming\\python\\python311\\site-packages (from pydantic>=1.9->chromadb) (0.7.0)\n",
      "Requirement already satisfied: pydantic-core==2.33.1 in c:\\users\\sandi\\appdata\\roaming\\python\\python311\\site-packages (from pydantic>=1.9->chromadb) (2.33.1)\n",
      "Requirement already satisfied: typing-inspection>=0.4.0 in c:\\users\\sandi\\appdata\\roaming\\python\\python311\\site-packages (from pydantic>=1.9->chromadb) (0.4.0)\n",
      "Requirement already satisfied: charset-normalizer<4,>=2 in c:\\users\\sandi\\appdata\\roaming\\python\\python311\\site-packages (from requests->transformers) (3.4.1)\n",
      "Requirement already satisfied: markdown-it-py>=2.2.0 in c:\\users\\sandi\\appdata\\roaming\\python\\python311\\site-packages (from rich>=10.11.0->chromadb) (3.0.0)\n",
      "Requirement already satisfied: pygments<3.0.0,>=2.13.0 in c:\\users\\sandi\\appdata\\roaming\\python\\python311\\site-packages (from rich>=10.11.0->chromadb) (2.19.1)\n",
      "Requirement already satisfied: networkx in c:\\users\\sandi\\appdata\\roaming\\python\\python311\\site-packages (from torch>=1.11.0->sentence-transformers) (3.4.2)\n",
      "Requirement already satisfied: jinja2 in c:\\users\\sandi\\appdata\\roaming\\python\\python311\\site-packages (from torch>=1.11.0->sentence-transformers) (3.1.5)\n",
      "Requirement already satisfied: click>=8.0.0 in c:\\users\\sandi\\appdata\\roaming\\python\\python311\\site-packages (from typer>=0.9.0->chromadb) (8.1.8)\n",
      "Requirement already satisfied: shellingham>=1.3.0 in c:\\users\\sandi\\appdata\\roaming\\python\\python311\\site-packages (from typer>=0.9.0->chromadb) (1.5.4)\n",
      "Requirement already satisfied: httptools>=0.6.3 in c:\\users\\sandi\\appdata\\roaming\\python\\python311\\site-packages (from uvicorn[standard]>=0.18.3->chromadb) (0.6.4)\n",
      "Requirement already satisfied: python-dotenv>=0.13 in c:\\users\\sandi\\appdata\\roaming\\python\\python311\\site-packages (from uvicorn[standard]>=0.18.3->chromadb) (1.1.0)\n",
      "Requirement already satisfied: watchfiles>=0.13 in c:\\users\\sandi\\appdata\\roaming\\python\\python311\\site-packages (from uvicorn[standard]>=0.18.3->chromadb) (1.0.5)\n",
      "Requirement already satisfied: websockets>=10.4 in c:\\users\\sandi\\appdata\\roaming\\python\\python311\\site-packages (from uvicorn[standard]>=0.18.3->chromadb) (15.0.1)\n",
      "Requirement already satisfied: joblib>=1.2.0 in c:\\users\\sandi\\appdata\\roaming\\python\\python311\\site-packages (from scikit-learn->sentence-transformers) (1.4.2)\n",
      "Requirement already satisfied: threadpoolctl>=3.1.0 in c:\\users\\sandi\\appdata\\roaming\\python\\python311\\site-packages (from scikit-learn->sentence-transformers) (3.6.0)\n",
      "Requirement already satisfied: cachetools<6.0,>=2.0.0 in c:\\users\\sandi\\appdata\\roaming\\python\\python311\\site-packages (from google-auth>=1.0.1->kubernetes>=28.1.0->chromadb) (5.5.2)\n",
      "Requirement already satisfied: pyasn1-modules>=0.2.1 in c:\\users\\sandi\\appdata\\roaming\\python\\python311\\site-packages (from google-auth>=1.0.1->kubernetes>=28.1.0->chromadb) (0.4.2)\n",
      "Requirement already satisfied: rsa<5,>=3.1.4 in c:\\users\\sandi\\appdata\\roaming\\python\\python311\\site-packages (from google-auth>=1.0.1->kubernetes>=28.1.0->chromadb) (4.9.1)\n",
      "Requirement already satisfied: zipp>=3.20 in c:\\users\\sandi\\appdata\\roaming\\python\\python311\\site-packages (from importlib-metadata<8.7.0,>=6.0->opentelemetry-api>=1.2.0->chromadb) (3.21.0)\n",
      "Requirement already satisfied: mdurl~=0.1 in c:\\users\\sandi\\appdata\\roaming\\python\\python311\\site-packages (from markdown-it-py>=2.2.0->rich>=10.11.0->chromadb) (0.1.2)\n",
      "Requirement already satisfied: sniffio>=1.1 in c:\\users\\sandi\\appdata\\roaming\\python\\python311\\site-packages (from anyio->httpx>=0.27.0->chromadb) (1.3.1)\n",
      "Requirement already satisfied: mpmath<1.4,>=1.1.0 in c:\\users\\sandi\\appdata\\roaming\\python\\python311\\site-packages (from sympy->onnxruntime>=1.14.1->chromadb) (1.3.0)\n",
      "Requirement already satisfied: humanfriendly>=9.1 in c:\\users\\sandi\\appdata\\roaming\\python\\python311\\site-packages (from coloredlogs->onnxruntime>=1.14.1->chromadb) (10.0)\n",
      "Requirement already satisfied: MarkupSafe>=2.0 in c:\\users\\sandi\\appdata\\roaming\\python\\python311\\site-packages (from jinja2->torch>=1.11.0->sentence-transformers) (3.0.2)\n",
      "Requirement already satisfied: pyreadline3 in c:\\users\\sandi\\appdata\\roaming\\python\\python311\\site-packages (from humanfriendly>=9.1->coloredlogs->onnxruntime>=1.14.1->chromadb) (3.5.4)\n",
      "Requirement already satisfied: pyasn1<0.7.0,>=0.6.1 in c:\\users\\sandi\\appdata\\roaming\\python\\python311\\site-packages (from pyasn1-modules>=0.2.1->google-auth>=1.0.1->kubernetes>=28.1.0->chromadb) (0.6.1)\n"
     ]
    },
    {
     "name": "stderr",
     "output_type": "stream",
     "text": [
      "\n",
      "[notice] A new release of pip is available: 25.0.1 -> 25.1\n",
      "[notice] To update, run: python.exe -m pip install --upgrade pip\n"
     ]
    },
    {
     "name": "stdout",
     "output_type": "stream",
     "text": [
      "Defaulting to user installation because normal site-packages is not writeable\n",
      "Requirement already satisfied: tf-keras in c:\\users\\sandi\\appdata\\roaming\\python\\python311\\site-packages (2.19.0)\n",
      "Requirement already satisfied: unstructured[pdf] in c:\\users\\sandi\\appdata\\roaming\\python\\python311\\site-packages (0.17.2)\n",
      "Requirement already satisfied: chardet in c:\\users\\sandi\\appdata\\roaming\\python\\python311\\site-packages (from unstructured[pdf]) (5.2.0)\n",
      "Requirement already satisfied: filetype in c:\\users\\sandi\\appdata\\roaming\\python\\python311\\site-packages (from unstructured[pdf]) (1.2.0)\n",
      "Requirement already satisfied: python-magic in c:\\users\\sandi\\appdata\\roaming\\python\\python311\\site-packages (from unstructured[pdf]) (0.4.27)\n",
      "Requirement already satisfied: lxml in c:\\users\\sandi\\appdata\\roaming\\python\\python311\\site-packages (from unstructured[pdf]) (5.4.0)\n",
      "Requirement already satisfied: nltk in c:\\users\\sandi\\appdata\\roaming\\python\\python311\\site-packages (from unstructured[pdf]) (3.9.1)\n",
      "Requirement already satisfied: requests in c:\\users\\sandi\\appdata\\roaming\\python\\python311\\site-packages (from unstructured[pdf]) (2.32.3)\n",
      "Requirement already satisfied: beautifulsoup4 in c:\\users\\sandi\\appdata\\roaming\\python\\python311\\site-packages (from unstructured[pdf]) (4.13.3)\n",
      "Requirement already satisfied: emoji in c:\\users\\sandi\\appdata\\roaming\\python\\python311\\site-packages (from unstructured[pdf]) (2.14.1)\n",
      "Requirement already satisfied: dataclasses-json in c:\\users\\sandi\\appdata\\roaming\\python\\python311\\site-packages (from unstructured[pdf]) (0.5.14)\n",
      "Requirement already satisfied: python-iso639 in c:\\users\\sandi\\appdata\\roaming\\python\\python311\\site-packages (from unstructured[pdf]) (2025.2.18)\n",
      "Requirement already satisfied: langdetect in c:\\users\\sandi\\appdata\\roaming\\python\\python311\\site-packages (from unstructured[pdf]) (1.0.9)\n",
      "Requirement already satisfied: numpy in c:\\users\\sandi\\appdata\\roaming\\python\\python311\\site-packages (from unstructured[pdf]) (2.1.3)\n",
      "Requirement already satisfied: rapidfuzz in c:\\users\\sandi\\appdata\\roaming\\python\\python311\\site-packages (from unstructured[pdf]) (3.13.0)\n",
      "Requirement already satisfied: backoff in c:\\users\\sandi\\appdata\\roaming\\python\\python311\\site-packages (from unstructured[pdf]) (2.2.1)\n",
      "Requirement already satisfied: typing-extensions in c:\\users\\sandi\\appdata\\roaming\\python\\python311\\site-packages (from unstructured[pdf]) (4.12.2)\n",
      "Requirement already satisfied: unstructured-client in c:\\users\\sandi\\appdata\\roaming\\python\\python311\\site-packages (from unstructured[pdf]) (0.34.0)\n",
      "Requirement already satisfied: wrapt in c:\\users\\sandi\\appdata\\roaming\\python\\python311\\site-packages (from unstructured[pdf]) (1.17.2)\n",
      "Requirement already satisfied: tqdm in c:\\users\\sandi\\appdata\\roaming\\python\\python311\\site-packages (from unstructured[pdf]) (4.67.1)\n",
      "Requirement already satisfied: psutil in c:\\users\\sandi\\appdata\\roaming\\python\\python311\\site-packages (from unstructured[pdf]) (7.0.0)\n",
      "Requirement already satisfied: python-oxmsg in c:\\users\\sandi\\appdata\\roaming\\python\\python311\\site-packages (from unstructured[pdf]) (0.0.2)\n",
      "Requirement already satisfied: html5lib in c:\\users\\sandi\\appdata\\roaming\\python\\python311\\site-packages (from unstructured[pdf]) (1.1)\n",
      "Requirement already satisfied: onnx>=1.17.0 in c:\\users\\sandi\\appdata\\roaming\\python\\python311\\site-packages (from unstructured[pdf]) (1.17.0)\n",
      "Requirement already satisfied: onnxruntime>=1.19.0 in c:\\users\\sandi\\appdata\\roaming\\python\\python311\\site-packages (from unstructured[pdf]) (1.21.1)\n",
      "Requirement already satisfied: pdf2image in c:\\users\\sandi\\appdata\\roaming\\python\\python311\\site-packages (from unstructured[pdf]) (1.17.0)\n",
      "Requirement already satisfied: pdfminer.six in c:\\users\\sandi\\appdata\\roaming\\python\\python311\\site-packages (from unstructured[pdf]) (20250416)\n",
      "Requirement already satisfied: pikepdf in c:\\users\\sandi\\appdata\\roaming\\python\\python311\\site-packages (from unstructured[pdf]) (9.7.0)\n",
      "Requirement already satisfied: pi-heif in c:\\users\\sandi\\appdata\\roaming\\python\\python311\\site-packages (from unstructured[pdf]) (0.22.0)\n",
      "Requirement already satisfied: pypdf in c:\\users\\sandi\\appdata\\roaming\\python\\python311\\site-packages (from unstructured[pdf]) (5.4.0)\n",
      "Requirement already satisfied: google-cloud-vision in c:\\users\\sandi\\appdata\\roaming\\python\\python311\\site-packages (from unstructured[pdf]) (3.10.1)\n",
      "Requirement already satisfied: effdet in c:\\users\\sandi\\appdata\\roaming\\python\\python311\\site-packages (from unstructured[pdf]) (0.4.1)\n",
      "Requirement already satisfied: unstructured-inference>=0.8.10 in c:\\users\\sandi\\appdata\\roaming\\python\\python311\\site-packages (from unstructured[pdf]) (0.8.10)\n",
      "Requirement already satisfied: unstructured.pytesseract>=0.3.12 in c:\\users\\sandi\\appdata\\roaming\\python\\python311\\site-packages (from unstructured[pdf]) (0.3.15)\n",
      "Requirement already satisfied: tensorflow<2.20,>=2.19 in c:\\users\\sandi\\appdata\\roaming\\python\\python311\\site-packages (from tf-keras) (2.19.0)\n",
      "Requirement already satisfied: protobuf>=3.20.2 in c:\\users\\sandi\\appdata\\roaming\\python\\python311\\site-packages (from onnx>=1.17.0->unstructured[pdf]) (5.29.4)\n",
      "Requirement already satisfied: coloredlogs in c:\\users\\sandi\\appdata\\roaming\\python\\python311\\site-packages (from onnxruntime>=1.19.0->unstructured[pdf]) (15.0.1)\n",
      "Requirement already satisfied: flatbuffers in c:\\users\\sandi\\appdata\\roaming\\python\\python311\\site-packages (from onnxruntime>=1.19.0->unstructured[pdf]) (25.2.10)\n",
      "Requirement already satisfied: packaging in c:\\users\\sandi\\appdata\\roaming\\python\\python311\\site-packages (from onnxruntime>=1.19.0->unstructured[pdf]) (24.2)\n",
      "Requirement already satisfied: sympy in c:\\users\\sandi\\appdata\\roaming\\python\\python311\\site-packages (from onnxruntime>=1.19.0->unstructured[pdf]) (1.14.0)\n",
      "Requirement already satisfied: absl-py>=1.0.0 in c:\\users\\sandi\\appdata\\roaming\\python\\python311\\site-packages (from tensorflow<2.20,>=2.19->tf-keras) (2.2.2)\n",
      "Requirement already satisfied: astunparse>=1.6.0 in c:\\users\\sandi\\appdata\\roaming\\python\\python311\\site-packages (from tensorflow<2.20,>=2.19->tf-keras) (1.6.3)\n",
      "Requirement already satisfied: gast!=0.5.0,!=0.5.1,!=0.5.2,>=0.2.1 in c:\\users\\sandi\\appdata\\roaming\\python\\python311\\site-packages (from tensorflow<2.20,>=2.19->tf-keras) (0.6.0)\n",
      "Requirement already satisfied: google-pasta>=0.1.1 in c:\\users\\sandi\\appdata\\roaming\\python\\python311\\site-packages (from tensorflow<2.20,>=2.19->tf-keras) (0.2.0)\n",
      "Requirement already satisfied: libclang>=13.0.0 in c:\\users\\sandi\\appdata\\roaming\\python\\python311\\site-packages (from tensorflow<2.20,>=2.19->tf-keras) (18.1.1)\n",
      "Requirement already satisfied: opt-einsum>=2.3.2 in c:\\users\\sandi\\appdata\\roaming\\python\\python311\\site-packages (from tensorflow<2.20,>=2.19->tf-keras) (3.4.0)\n",
      "Requirement already satisfied: setuptools in c:\\users\\sandi\\appdata\\roaming\\python\\python311\\site-packages (from tensorflow<2.20,>=2.19->tf-keras) (75.8.0)\n",
      "Requirement already satisfied: six>=1.12.0 in c:\\users\\sandi\\appdata\\roaming\\python\\python311\\site-packages (from tensorflow<2.20,>=2.19->tf-keras) (1.17.0)\n",
      "Requirement already satisfied: termcolor>=1.1.0 in c:\\users\\sandi\\appdata\\roaming\\python\\python311\\site-packages (from tensorflow<2.20,>=2.19->tf-keras) (3.0.1)\n",
      "Requirement already satisfied: grpcio<2.0,>=1.24.3 in c:\\users\\sandi\\appdata\\roaming\\python\\python311\\site-packages (from tensorflow<2.20,>=2.19->tf-keras) (1.72.0rc1)\n",
      "Requirement already satisfied: tensorboard~=2.19.0 in c:\\users\\sandi\\appdata\\roaming\\python\\python311\\site-packages (from tensorflow<2.20,>=2.19->tf-keras) (2.19.0)\n",
      "Requirement already satisfied: keras>=3.5.0 in c:\\users\\sandi\\appdata\\roaming\\python\\python311\\site-packages (from tensorflow<2.20,>=2.19->tf-keras) (3.9.2)\n",
      "Requirement already satisfied: h5py>=3.11.0 in c:\\users\\sandi\\appdata\\roaming\\python\\python311\\site-packages (from tensorflow<2.20,>=2.19->tf-keras) (3.13.0)\n",
      "Requirement already satisfied: ml-dtypes<1.0.0,>=0.5.1 in c:\\users\\sandi\\appdata\\roaming\\python\\python311\\site-packages (from tensorflow<2.20,>=2.19->tf-keras) (0.5.1)\n",
      "Requirement already satisfied: tensorflow-io-gcs-filesystem>=0.23.1 in c:\\users\\sandi\\appdata\\roaming\\python\\python311\\site-packages (from tensorflow<2.20,>=2.19->tf-keras) (0.31.0)\n",
      "Requirement already satisfied: charset-normalizer<4,>=2 in c:\\users\\sandi\\appdata\\roaming\\python\\python311\\site-packages (from requests->unstructured[pdf]) (3.4.1)\n",
      "Requirement already satisfied: idna<4,>=2.5 in c:\\users\\sandi\\appdata\\roaming\\python\\python311\\site-packages (from requests->unstructured[pdf]) (3.10)\n",
      "Requirement already satisfied: urllib3<3,>=1.21.1 in c:\\users\\sandi\\appdata\\roaming\\python\\python311\\site-packages (from requests->unstructured[pdf]) (1.26.20)\n",
      "Requirement already satisfied: certifi>=2017.4.17 in c:\\users\\sandi\\appdata\\roaming\\python\\python311\\site-packages (from requests->unstructured[pdf]) (2025.1.31)\n",
      "Requirement already satisfied: python-multipart in c:\\users\\sandi\\appdata\\roaming\\python\\python311\\site-packages (from unstructured-inference>=0.8.10->unstructured[pdf]) (0.0.20)\n",
      "Requirement already satisfied: huggingface-hub in c:\\users\\sandi\\appdata\\roaming\\python\\python311\\site-packages (from unstructured-inference>=0.8.10->unstructured[pdf]) (0.30.2)\n",
      "Requirement already satisfied: opencv-python!=4.7.0.68 in c:\\users\\sandi\\appdata\\roaming\\python\\python311\\site-packages (from unstructured-inference>=0.8.10->unstructured[pdf]) (4.11.0.86)\n",
      "Requirement already satisfied: matplotlib in c:\\users\\sandi\\appdata\\roaming\\python\\python311\\site-packages (from unstructured-inference>=0.8.10->unstructured[pdf]) (3.10.1)\n",
      "Requirement already satisfied: torch in c:\\users\\sandi\\appdata\\roaming\\python\\python311\\site-packages (from unstructured-inference>=0.8.10->unstructured[pdf]) (2.7.0)\n",
      "Requirement already satisfied: timm in c:\\users\\sandi\\appdata\\roaming\\python\\python311\\site-packages (from unstructured-inference>=0.8.10->unstructured[pdf]) (1.0.15)\n",
      "Requirement already satisfied: transformers>=4.25.1 in c:\\users\\sandi\\appdata\\roaming\\python\\python311\\site-packages (from unstructured-inference>=0.8.10->unstructured[pdf]) (4.51.3)\n",
      "Requirement already satisfied: pandas in c:\\users\\sandi\\appdata\\roaming\\python\\python311\\site-packages (from unstructured-inference>=0.8.10->unstructured[pdf]) (2.2.3)\n",
      "Requirement already satisfied: scipy in c:\\users\\sandi\\appdata\\roaming\\python\\python311\\site-packages (from unstructured-inference>=0.8.10->unstructured[pdf]) (1.15.2)\n",
      "Requirement already satisfied: pypdfium2 in c:\\users\\sandi\\appdata\\roaming\\python\\python311\\site-packages (from unstructured-inference>=0.8.10->unstructured[pdf]) (4.30.1)\n",
      "Requirement already satisfied: Pillow>=8.0.0 in c:\\users\\sandi\\appdata\\roaming\\python\\python311\\site-packages (from unstructured.pytesseract>=0.3.12->unstructured[pdf]) (11.1.0)\n",
      "Requirement already satisfied: soupsieve>1.2 in c:\\users\\sandi\\appdata\\roaming\\python\\python311\\site-packages (from beautifulsoup4->unstructured[pdf]) (2.6)\n",
      "Requirement already satisfied: marshmallow<4.0.0,>=3.18.0 in c:\\users\\sandi\\appdata\\roaming\\python\\python311\\site-packages (from dataclasses-json->unstructured[pdf]) (3.26.1)\n",
      "Requirement already satisfied: typing-inspect<1,>=0.4.0 in c:\\users\\sandi\\appdata\\roaming\\python\\python311\\site-packages (from dataclasses-json->unstructured[pdf]) (0.9.0)\n",
      "Requirement already satisfied: torchvision in c:\\users\\sandi\\appdata\\roaming\\python\\python311\\site-packages (from effdet->unstructured[pdf]) (0.22.0)\n",
      "Requirement already satisfied: pycocotools>=2.0.2 in c:\\users\\sandi\\appdata\\roaming\\python\\python311\\site-packages (from effdet->unstructured[pdf]) (2.0.8)\n",
      "Requirement already satisfied: omegaconf>=2.0 in c:\\users\\sandi\\appdata\\roaming\\python\\python311\\site-packages (from effdet->unstructured[pdf]) (2.3.0)\n",
      "Requirement already satisfied: google-api-core!=2.0.*,!=2.1.*,!=2.10.*,!=2.2.*,!=2.3.*,!=2.4.*,!=2.5.*,!=2.6.*,!=2.7.*,!=2.8.*,!=2.9.*,<3.0.0,>=1.34.1 in c:\\users\\sandi\\appdata\\roaming\\python\\python311\\site-packages (from google-api-core[grpc]!=2.0.*,!=2.1.*,!=2.10.*,!=2.2.*,!=2.3.*,!=2.4.*,!=2.5.*,!=2.6.*,!=2.7.*,!=2.8.*,!=2.9.*,<3.0.0,>=1.34.1->google-cloud-vision->unstructured[pdf]) (2.24.2)\n",
      "Requirement already satisfied: google-auth!=2.24.0,!=2.25.0,<3.0.0,>=2.14.1 in c:\\users\\sandi\\appdata\\roaming\\python\\python311\\site-packages (from google-cloud-vision->unstructured[pdf]) (2.39.0)\n",
      "Requirement already satisfied: proto-plus<2.0.0,>=1.22.3 in c:\\users\\sandi\\appdata\\roaming\\python\\python311\\site-packages (from google-cloud-vision->unstructured[pdf]) (1.26.1)\n",
      "Requirement already satisfied: webencodings in c:\\users\\sandi\\appdata\\roaming\\python\\python311\\site-packages (from html5lib->unstructured[pdf]) (0.5.1)\n",
      "Requirement already satisfied: click in c:\\users\\sandi\\appdata\\roaming\\python\\python311\\site-packages (from nltk->unstructured[pdf]) (8.1.8)\n",
      "Requirement already satisfied: joblib in c:\\users\\sandi\\appdata\\roaming\\python\\python311\\site-packages (from nltk->unstructured[pdf]) (1.4.2)\n",
      "Requirement already satisfied: regex>=2021.8.3 in c:\\users\\sandi\\appdata\\roaming\\python\\python311\\site-packages (from nltk->unstructured[pdf]) (2024.11.6)\n",
      "Requirement already satisfied: cryptography>=36.0.0 in c:\\users\\sandi\\appdata\\roaming\\python\\python311\\site-packages (from pdfminer.six->unstructured[pdf]) (44.0.2)\n",
      "Requirement already satisfied: Deprecated in c:\\users\\sandi\\appdata\\roaming\\python\\python311\\site-packages (from pikepdf->unstructured[pdf]) (1.2.18)\n",
      "Requirement already satisfied: olefile in c:\\users\\sandi\\appdata\\roaming\\python\\python311\\site-packages (from python-oxmsg->unstructured[pdf]) (0.47)\n",
      "Requirement already satisfied: colorama in c:\\users\\sandi\\appdata\\roaming\\python\\python311\\site-packages (from tqdm->unstructured[pdf]) (0.4.6)\n",
      "Requirement already satisfied: aiofiles>=24.1.0 in c:\\users\\sandi\\appdata\\roaming\\python\\python311\\site-packages (from unstructured-client->unstructured[pdf]) (24.1.0)\n",
      "Requirement already satisfied: eval-type-backport>=0.2.0 in c:\\users\\sandi\\appdata\\roaming\\python\\python311\\site-packages (from unstructured-client->unstructured[pdf]) (0.2.2)\n",
      "Requirement already satisfied: httpx>=0.27.0 in c:\\users\\sandi\\appdata\\roaming\\python\\python311\\site-packages (from unstructured-client->unstructured[pdf]) (0.28.1)\n",
      "Requirement already satisfied: nest-asyncio>=1.6.0 in c:\\users\\sandi\\appdata\\roaming\\python\\python311\\site-packages (from unstructured-client->unstructured[pdf]) (1.6.0)\n",
      "Requirement already satisfied: pydantic>=2.11.2 in c:\\users\\sandi\\appdata\\roaming\\python\\python311\\site-packages (from unstructured-client->unstructured[pdf]) (2.11.2)\n",
      "Requirement already satisfied: requests-toolbelt>=1.0.0 in c:\\users\\sandi\\appdata\\roaming\\python\\python311\\site-packages (from unstructured-client->unstructured[pdf]) (1.0.0)\n",
      "Requirement already satisfied: typing-inspection>=0.4.0 in c:\\users\\sandi\\appdata\\roaming\\python\\python311\\site-packages (from unstructured-client->unstructured[pdf]) (0.4.0)\n",
      "Requirement already satisfied: wheel<1.0,>=0.23.0 in c:\\users\\sandi\\appdata\\roaming\\python\\python311\\site-packages (from astunparse>=1.6.0->tensorflow<2.20,>=2.19->tf-keras) (0.45.1)\n",
      "Requirement already satisfied: cffi>=1.12 in c:\\users\\sandi\\appdata\\roaming\\python\\python311\\site-packages (from cryptography>=36.0.0->pdfminer.six->unstructured[pdf]) (1.17.1)\n",
      "Requirement already satisfied: googleapis-common-protos<2.0.0,>=1.56.2 in c:\\users\\sandi\\appdata\\roaming\\python\\python311\\site-packages (from google-api-core!=2.0.*,!=2.1.*,!=2.10.*,!=2.2.*,!=2.3.*,!=2.4.*,!=2.5.*,!=2.6.*,!=2.7.*,!=2.8.*,!=2.9.*,<3.0.0,>=1.34.1->google-api-core[grpc]!=2.0.*,!=2.1.*,!=2.10.*,!=2.2.*,!=2.3.*,!=2.4.*,!=2.5.*,!=2.6.*,!=2.7.*,!=2.8.*,!=2.9.*,<3.0.0,>=1.34.1->google-cloud-vision->unstructured[pdf]) (1.70.0)\n",
      "Requirement already satisfied: grpcio-status<2.0.dev0,>=1.33.2 in c:\\users\\sandi\\appdata\\roaming\\python\\python311\\site-packages (from google-api-core[grpc]!=2.0.*,!=2.1.*,!=2.10.*,!=2.2.*,!=2.3.*,!=2.4.*,!=2.5.*,!=2.6.*,!=2.7.*,!=2.8.*,!=2.9.*,<3.0.0,>=1.34.1->google-cloud-vision->unstructured[pdf]) (1.71.0)\n",
      "Requirement already satisfied: cachetools<6.0,>=2.0.0 in c:\\users\\sandi\\appdata\\roaming\\python\\python311\\site-packages (from google-auth!=2.24.0,!=2.25.0,<3.0.0,>=2.14.1->google-cloud-vision->unstructured[pdf]) (5.5.2)\n",
      "Requirement already satisfied: pyasn1-modules>=0.2.1 in c:\\users\\sandi\\appdata\\roaming\\python\\python311\\site-packages (from google-auth!=2.24.0,!=2.25.0,<3.0.0,>=2.14.1->google-cloud-vision->unstructured[pdf]) (0.4.2)\n",
      "Requirement already satisfied: rsa<5,>=3.1.4 in c:\\users\\sandi\\appdata\\roaming\\python\\python311\\site-packages (from google-auth!=2.24.0,!=2.25.0,<3.0.0,>=2.14.1->google-cloud-vision->unstructured[pdf]) (4.9.1)\n",
      "Requirement already satisfied: anyio in c:\\users\\sandi\\appdata\\roaming\\python\\python311\\site-packages (from httpx>=0.27.0->unstructured-client->unstructured[pdf]) (4.8.0)\n",
      "Requirement already satisfied: httpcore==1.* in c:\\users\\sandi\\appdata\\roaming\\python\\python311\\site-packages (from httpx>=0.27.0->unstructured-client->unstructured[pdf]) (1.0.7)\n",
      "Requirement already satisfied: h11<0.15,>=0.13 in c:\\users\\sandi\\appdata\\roaming\\python\\python311\\site-packages (from httpcore==1.*->httpx>=0.27.0->unstructured-client->unstructured[pdf]) (0.14.0)\n",
      "Requirement already satisfied: rich in c:\\users\\sandi\\appdata\\roaming\\python\\python311\\site-packages (from keras>=3.5.0->tensorflow<2.20,>=2.19->tf-keras) (14.0.0)\n",
      "Requirement already satisfied: namex in c:\\users\\sandi\\appdata\\roaming\\python\\python311\\site-packages (from keras>=3.5.0->tensorflow<2.20,>=2.19->tf-keras) (0.0.8)\n",
      "Requirement already satisfied: optree in c:\\users\\sandi\\appdata\\roaming\\python\\python311\\site-packages (from keras>=3.5.0->tensorflow<2.20,>=2.19->tf-keras) (0.14.1)\n",
      "Requirement already satisfied: antlr4-python3-runtime==4.9.* in c:\\users\\sandi\\appdata\\roaming\\python\\python311\\site-packages (from omegaconf>=2.0->effdet->unstructured[pdf]) (4.9.3)\n",
      "Requirement already satisfied: PyYAML>=5.1.0 in c:\\users\\sandi\\appdata\\roaming\\python\\python311\\site-packages (from omegaconf>=2.0->effdet->unstructured[pdf]) (6.0.2)\n",
      "Requirement already satisfied: contourpy>=1.0.1 in c:\\users\\sandi\\appdata\\roaming\\python\\python311\\site-packages (from matplotlib->unstructured-inference>=0.8.10->unstructured[pdf]) (1.3.2)\n",
      "Requirement already satisfied: cycler>=0.10 in c:\\users\\sandi\\appdata\\roaming\\python\\python311\\site-packages (from matplotlib->unstructured-inference>=0.8.10->unstructured[pdf]) (0.12.1)\n",
      "Requirement already satisfied: fonttools>=4.22.0 in c:\\users\\sandi\\appdata\\roaming\\python\\python311\\site-packages (from matplotlib->unstructured-inference>=0.8.10->unstructured[pdf]) (4.57.0)\n",
      "Requirement already satisfied: kiwisolver>=1.3.1 in c:\\users\\sandi\\appdata\\roaming\\python\\python311\\site-packages (from matplotlib->unstructured-inference>=0.8.10->unstructured[pdf]) (1.4.8)\n",
      "Requirement already satisfied: pyparsing>=2.3.1 in c:\\users\\sandi\\appdata\\roaming\\python\\python311\\site-packages (from matplotlib->unstructured-inference>=0.8.10->unstructured[pdf]) (3.2.3)\n",
      "Requirement already satisfied: python-dateutil>=2.7 in c:\\users\\sandi\\appdata\\roaming\\python\\python311\\site-packages (from matplotlib->unstructured-inference>=0.8.10->unstructured[pdf]) (2.9.0.post0)\n",
      "Requirement already satisfied: annotated-types>=0.6.0 in c:\\users\\sandi\\appdata\\roaming\\python\\python311\\site-packages (from pydantic>=2.11.2->unstructured-client->unstructured[pdf]) (0.7.0)\n",
      "Requirement already satisfied: pydantic-core==2.33.1 in c:\\users\\sandi\\appdata\\roaming\\python\\python311\\site-packages (from pydantic>=2.11.2->unstructured-client->unstructured[pdf]) (2.33.1)\n",
      "Requirement already satisfied: markdown>=2.6.8 in c:\\users\\sandi\\appdata\\roaming\\python\\python311\\site-packages (from tensorboard~=2.19.0->tensorflow<2.20,>=2.19->tf-keras) (3.7)\n",
      "Requirement already satisfied: tensorboard-data-server<0.8.0,>=0.7.0 in c:\\users\\sandi\\appdata\\roaming\\python\\python311\\site-packages (from tensorboard~=2.19.0->tensorflow<2.20,>=2.19->tf-keras) (0.7.2)\n",
      "Requirement already satisfied: werkzeug>=1.0.1 in c:\\users\\sandi\\appdata\\roaming\\python\\python311\\site-packages (from tensorboard~=2.19.0->tensorflow<2.20,>=2.19->tf-keras) (3.1.3)\n",
      "Requirement already satisfied: safetensors in c:\\users\\sandi\\appdata\\roaming\\python\\python311\\site-packages (from timm->unstructured-inference>=0.8.10->unstructured[pdf]) (0.5.3)\n",
      "Requirement already satisfied: filelock in c:\\users\\sandi\\appdata\\roaming\\python\\python311\\site-packages (from torch->unstructured-inference>=0.8.10->unstructured[pdf]) (3.18.0)\n",
      "Requirement already satisfied: networkx in c:\\users\\sandi\\appdata\\roaming\\python\\python311\\site-packages (from torch->unstructured-inference>=0.8.10->unstructured[pdf]) (3.4.2)\n",
      "Requirement already satisfied: jinja2 in c:\\users\\sandi\\appdata\\roaming\\python\\python311\\site-packages (from torch->unstructured-inference>=0.8.10->unstructured[pdf]) (3.1.5)\n",
      "Requirement already satisfied: fsspec in c:\\users\\sandi\\appdata\\roaming\\python\\python311\\site-packages (from torch->unstructured-inference>=0.8.10->unstructured[pdf]) (2025.3.2)\n",
      "Requirement already satisfied: mpmath<1.4,>=1.1.0 in c:\\users\\sandi\\appdata\\roaming\\python\\python311\\site-packages (from sympy->onnxruntime>=1.19.0->unstructured[pdf]) (1.3.0)\n",
      "Requirement already satisfied: tokenizers<0.22,>=0.21 in c:\\users\\sandi\\appdata\\roaming\\python\\python311\\site-packages (from transformers>=4.25.1->unstructured-inference>=0.8.10->unstructured[pdf]) (0.21.1)\n",
      "Requirement already satisfied: mypy-extensions>=0.3.0 in c:\\users\\sandi\\appdata\\roaming\\python\\python311\\site-packages (from typing-inspect<1,>=0.4.0->dataclasses-json->unstructured[pdf]) (1.1.0)\n",
      "Requirement already satisfied: humanfriendly>=9.1 in c:\\users\\sandi\\appdata\\roaming\\python\\python311\\site-packages (from coloredlogs->onnxruntime>=1.19.0->unstructured[pdf]) (10.0)\n",
      "Requirement already satisfied: pytz>=2020.1 in c:\\users\\sandi\\appdata\\roaming\\python\\python311\\site-packages (from pandas->unstructured-inference>=0.8.10->unstructured[pdf]) (2025.1)\n",
      "Requirement already satisfied: tzdata>=2022.7 in c:\\users\\sandi\\appdata\\roaming\\python\\python311\\site-packages (from pandas->unstructured-inference>=0.8.10->unstructured[pdf]) (2025.1)\n",
      "Requirement already satisfied: pycparser in c:\\users\\sandi\\appdata\\roaming\\python\\python311\\site-packages (from cffi>=1.12->cryptography>=36.0.0->pdfminer.six->unstructured[pdf]) (2.22)\n",
      "Requirement already satisfied: pyreadline3 in c:\\users\\sandi\\appdata\\roaming\\python\\python311\\site-packages (from humanfriendly>=9.1->coloredlogs->onnxruntime>=1.19.0->unstructured[pdf]) (3.5.4)\n",
      "Requirement already satisfied: pyasn1<0.7.0,>=0.6.1 in c:\\users\\sandi\\appdata\\roaming\\python\\python311\\site-packages (from pyasn1-modules>=0.2.1->google-auth!=2.24.0,!=2.25.0,<3.0.0,>=2.14.1->google-cloud-vision->unstructured[pdf]) (0.6.1)\n",
      "Requirement already satisfied: MarkupSafe>=2.1.1 in c:\\users\\sandi\\appdata\\roaming\\python\\python311\\site-packages (from werkzeug>=1.0.1->tensorboard~=2.19.0->tensorflow<2.20,>=2.19->tf-keras) (3.0.2)\n",
      "Requirement already satisfied: sniffio>=1.1 in c:\\users\\sandi\\appdata\\roaming\\python\\python311\\site-packages (from anyio->httpx>=0.27.0->unstructured-client->unstructured[pdf]) (1.3.1)\n",
      "Requirement already satisfied: markdown-it-py>=2.2.0 in c:\\users\\sandi\\appdata\\roaming\\python\\python311\\site-packages (from rich->keras>=3.5.0->tensorflow<2.20,>=2.19->tf-keras) (3.0.0)\n",
      "Requirement already satisfied: pygments<3.0.0,>=2.13.0 in c:\\users\\sandi\\appdata\\roaming\\python\\python311\\site-packages (from rich->keras>=3.5.0->tensorflow<2.20,>=2.19->tf-keras) (2.19.1)\n",
      "Requirement already satisfied: mdurl~=0.1 in c:\\users\\sandi\\appdata\\roaming\\python\\python311\\site-packages (from markdown-it-py>=2.2.0->rich->keras>=3.5.0->tensorflow<2.20,>=2.19->tf-keras) (0.1.2)\n"
     ]
    },
    {
     "name": "stderr",
     "output_type": "stream",
     "text": [
      "\n",
      "[notice] A new release of pip is available: 25.0.1 -> 25.1\n",
      "[notice] To update, run: python.exe -m pip install --upgrade pip\n"
     ]
    }
   ],
   "source": [
    "!pip install -U langchain langchain-community langchain-huggingface\n",
    "!pip install chromadb sentence-transformers transformers accelerate\n",
    "!pip install \"unstructured[pdf]\" tf-keras"
   ]
  },
  {
   "cell_type": "code",
   "execution_count": 5,
   "id": "2020dd75-a9a6-4cac-ae97-5c74c29b8401",
   "metadata": {},
   "outputs": [
    {
     "name": "stdout",
     "output_type": "stream",
     "text": [
      "✅ Loaded 966 document sections.\n"
     ]
    }
   ],
   "source": [
    "from langchain_community.document_loaders import PyPDFLoader\n",
    "import os\n",
    "\n",
    "pdf_folder = \"lecture_notes\"\n",
    "all_documents = []\n",
    "\n",
    "for file in os.listdir(pdf_folder):\n",
    "    if file.endswith(\".pdf\"):\n",
    "        loader = PyPDFLoader(os.path.join(pdf_folder, file))\n",
    "        all_documents.extend(loader.load())\n",
    "\n",
    "print(f\"✅ Loaded {len(all_documents)} document sections.\")\n"
   ]
  },
  {
   "cell_type": "code",
   "execution_count": 6,
   "id": "51e528d8-a047-40d2-86cd-5cd11d98b628",
   "metadata": {},
   "outputs": [
    {
     "name": "stdout",
     "output_type": "stream",
     "text": [
      "✅ Split into 1298 chunks.\n"
     ]
    }
   ],
   "source": [
    "from langchain.text_splitter import RecursiveCharacterTextSplitter\n",
    "\n",
    "splitter = RecursiveCharacterTextSplitter(chunk_size=1000, chunk_overlap=100)\n",
    "chunks = splitter.split_documents(all_documents)\n",
    "\n",
    "print(f\"✅ Split into {len(chunks)} chunks.\")\n"
   ]
  },
  {
   "cell_type": "code",
   "execution_count": 7,
   "id": "b62f9556-8c39-4996-a5f0-ae55f4ff620d",
   "metadata": {},
   "outputs": [
    {
     "name": "stdout",
     "output_type": "stream",
     "text": [
      "WARNING:tensorflow:From C:\\Users\\sandi\\AppData\\Roaming\\Python\\Python311\\site-packages\\tf_keras\\src\\losses.py:2976: The name tf.losses.sparse_softmax_cross_entropy is deprecated. Please use tf.compat.v1.losses.sparse_softmax_cross_entropy instead.\n",
      "\n",
      "✅ Embeddings stored in Chroma.\n"
     ]
    }
   ],
   "source": [
    "from langchain_huggingface import HuggingFaceEmbeddings\n",
    "from langchain.vectorstores import Chroma\n",
    "\n",
    "embedding_model = HuggingFaceEmbeddings(model_name=\"sentence-transformers/all-MiniLM-L6-v2\")\n",
    "db = Chroma.from_documents(chunks, embedding=embedding_model, persist_directory=\"./chatbot_db\")\n",
    "\n",
    "print(\"✅ Embeddings stored in Chroma.\")\n"
   ]
  },
  {
   "cell_type": "code",
   "execution_count": 11,
   "id": "3bedbf61-0f64-4408-81af-17e78db9c55a",
   "metadata": {},
   "outputs": [
    {
     "name": "stdout",
     "output_type": "stream",
     "text": [
      "🧠 Total: 16.93 GB\n",
      "✅ Available: 6.60 GB\n"
     ]
    }
   ],
   "source": [
    "import psutil\n",
    "\n",
    "mem = psutil.virtual_memory()\n",
    "print(f\"🧠 Total: {mem.total / 1e9:.2f} GB\")\n",
    "print(f\"✅ Available: {mem.available / 1e9:.2f} GB\")"
   ]
  },
  {
   "cell_type": "code",
   "execution_count": 12,
   "id": "a05172f7-2f21-4bb1-97ba-a245910421cd",
   "metadata": {},
   "outputs": [
    {
     "name": "stderr",
     "output_type": "stream",
     "text": [
      "Device set to use cpu\n"
     ]
    },
    {
     "name": "stdout",
     "output_type": "stream",
     "text": [
      "✅ model loaded\n"
     ]
    }
   ],
   "source": [
    "from transformers import AutoTokenizer, AutoModelForSeq2SeqLM, pipeline\n",
    "from langchain.llms import HuggingFacePipeline\n",
    "\n",
    "model_name = \"google/flan-t5-base\"\n",
    "\n",
    "tokenizer = AutoTokenizer.from_pretrained(model_name)\n",
    "model = AutoModelForSeq2SeqLM.from_pretrained(model_name)\n",
    "\n",
    "flan_pipeline = pipeline(\n",
    "    \"text2text-generation\",\n",
    "    model=model,\n",
    "    tokenizer=tokenizer,\n",
    "    max_new_tokens=1024,\n",
    "    temperature=0.7,\n",
    "    top_p=0.9,\n",
    "    repetition_penalty=1.1,\n",
    "    do_sample=True,\n",
    "    eos_token_id=tokenizer.eos_token_id \n",
    ")\n",
    "\n",
    "llm = HuggingFacePipeline(pipeline=flan_pipeline)\n",
    "\n",
    "print(\"✅ model loaded\")\n"
   ]
  },
  {
   "cell_type": "code",
   "execution_count": 13,
   "id": "d93c6ace-ccc7-41ee-b493-319fcb941f22",
   "metadata": {},
   "outputs": [
    {
     "name": "stdout",
     "output_type": "stream",
     "text": [
      "✅ QA Chain is ready.\n"
     ]
    }
   ],
   "source": [
    "from langchain.chains import RetrievalQA\n",
    "\n",
    "retriever = db.as_retriever()\n",
    "qa_chain = RetrievalQA.from_chain_type(llm=llm, retriever=retriever, return_source_documents=True)\n",
    "\n",
    "print(\"✅ QA Chain is ready.\")\n"
   ]
  },
  {
   "cell_type": "code",
   "execution_count": 14,
   "id": "eb0a86bd-8eda-40d3-8b87-4a96f636c79b",
   "metadata": {},
   "outputs": [],
   "source": [
    "def ask_detailed(question):\n",
    "    prompt = (\n",
    "        \"You are a university lecturer in software engineering.\\n\"\n",
    "        \"Explain the topic in detail using:\\n\"\n",
    "        \"- Clear definitions\\n\"\n",
    "        \"- Real-world examples\\n\"\n",
    "        \"- Use bullet points if possible\\n\"\n",
    "        \"- Avoid repetition and vague words\\n\"\n",
    "        \"- Write at least 200 words\\n\\n\"\n",
    "        f\"Question: {question}\\n\"\n",
    "        \"Answer:\\n\"\n",
    "    )\n",
    "    output = flan_pipeline(prompt)[0]['generated_text']\n",
    "    print(\"📘 Detailed Answer:\\n\", output)\n"
   ]
  },
  {
   "cell_type": "code",
   "execution_count": 15,
   "id": "ca4f9f51-c47c-4252-be74-73dcdb975559",
   "metadata": {},
   "outputs": [
    {
     "name": "stdout",
     "output_type": "stream",
     "text": [
      "📘 Detailed Answer:\n",
      " AWS provides DevOps services to companies that use Java and AWS services.\n"
     ]
    }
   ],
   "source": [
    "ask_detailed(\"What DevOps tools does AWS provide?\")"
   ]
  }
 ],
 "metadata": {
  "kernelspec": {
   "display_name": "Python 3 (ipykernel)",
   "language": "python",
   "name": "python3"
  },
  "language_info": {
   "codemirror_mode": {
    "name": "ipython",
    "version": 3
   },
   "file_extension": ".py",
   "mimetype": "text/x-python",
   "name": "python",
   "nbconvert_exporter": "python",
   "pygments_lexer": "ipython3",
   "version": "3.11.9"
  }
 },
 "nbformat": 4,
 "nbformat_minor": 5
}
